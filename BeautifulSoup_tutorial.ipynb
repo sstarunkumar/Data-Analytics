{
 "cells": [
  {
   "cell_type": "markdown",
   "metadata": {
    "id": "UD7fBq-Tk_sx"
   },
   "source": [
    "We start with an html element stored as a string in a variable"
   ]
  },
  {
   "cell_type": "code",
   "execution_count": 1,
   "metadata": {
    "colab": {
     "base_uri": "https://localhost:8080/"
    },
    "id": "onCCB9BRU1CV",
    "outputId": "073d0d48-25f9-4eb9-fc11-17956242742d"
   },
   "outputs": [
    {
     "name": "stdout",
     "output_type": "stream",
     "text": [
      "Collecting bs4\n",
      "  Downloading bs4-0.0.2-py2.py3-none-any.whl.metadata (411 bytes)\n",
      "Requirement already satisfied: beautifulsoup4 in c:\\users\\tarun\\anaconda3\\lib\\site-packages (from bs4) (4.12.2)\n",
      "Requirement already satisfied: soupsieve>1.2 in c:\\users\\tarun\\anaconda3\\lib\\site-packages (from beautifulsoup4->bs4) (2.5)\n",
      "Downloading bs4-0.0.2-py2.py3-none-any.whl (1.2 kB)\n",
      "Installing collected packages: bs4\n",
      "Successfully installed bs4-0.0.2\n"
     ]
    }
   ],
   "source": [
    "!pip install bs4"
   ]
  },
  {
   "cell_type": "markdown",
   "metadata": {
    "id": "KZ7WS2G2OI3p"
   },
   "source": [
    "https://www.crummy.com/software/BeautifulSoup/bs4/doc/"
   ]
  },
  {
   "cell_type": "code",
   "execution_count": 2,
   "metadata": {
    "id": "m8wg5az_WR8-"
   },
   "outputs": [],
   "source": [
    "from bs4 import BeautifulSoup\n",
    "\n",
    "# Sample HTML document\n",
    "html_doc = \"\"\"\n",
    "<html>\n",
    "<head><title>World's Population</title></head>\n",
    "<body>\n",
    "    <h1>Main Heading</h1>\n",
    "    <p class=\"xyz\">This is a paragraph.</p>\n",
    "    <p class=\"content\">Another paragraph with <a href=\"https://example.com\">a link</a>.</p>\n",
    "\n",
    "    <div id=\"container\">\n",
    "        <ul>\n",
    "            <li class=\"item\">Item 1</li>\n",
    "            <li class=\"item\">Item 2</li>\n",
    "            <li class=\"item\">Item 3</li>\n",
    "        </ul>\n",
    "    </div>\n",
    "\n",
    "    <table>\n",
    "        <tr><th>Name</th><th>Age</th></tr>\n",
    "        <tr><td>Alice</td><td>25</td></tr>\n",
    "        <tr><td>Bob</td><td>30</td></tr>\n",
    "        <tr><td>Frank</td><td>28</td></tr>\n",
    "        <tr><td>Rachel</td><td>24</td></tr>\n",
    "    </table>\n",
    "</body>\n",
    "</html>\n",
    "\"\"\"\n",
    "\n"
   ]
  },
  {
   "cell_type": "code",
   "execution_count": 3,
   "metadata": {
    "colab": {
     "base_uri": "https://localhost:8080/"
    },
    "id": "uK3_InNQYDs7",
    "outputId": "450c2bee-e2ab-4dc8-de9e-33641cdbfcfe"
   },
   "outputs": [
    {
     "name": "stdout",
     "output_type": "stream",
     "text": [
      "<class 'bs4.BeautifulSoup'>\n"
     ]
    }
   ],
   "source": [
    "soup = BeautifulSoup(html_doc, \"html.parser\")\n",
    "print(type(soup))"
   ]
  },
  {
   "cell_type": "code",
   "execution_count": 4,
   "metadata": {
    "colab": {
     "base_uri": "https://localhost:8080/"
    },
    "id": "APID4ZalfJgE",
    "outputId": "1c21d24c-88e4-4c3f-f55a-4230778e736f"
   },
   "outputs": [
    {
     "name": "stdout",
     "output_type": "stream",
     "text": [
      "<table>\n",
      "<tr><th>Name</th><th>Age</th></tr>\n",
      "<tr><td>Alice</td><td>25</td></tr>\n",
      "<tr><td>Bob</td><td>30</td></tr>\n",
      "<tr><td>Frank</td><td>28</td></tr>\n",
      "<tr><td>Rachel</td><td>24</td></tr>\n",
      "</table>\n"
     ]
    }
   ],
   "source": [
    "X = soup.find(\"table\")\n",
    "print(X)"
   ]
  },
  {
   "cell_type": "code",
   "execution_count": 5,
   "metadata": {
    "colab": {
     "base_uri": "https://localhost:8080/"
    },
    "id": "jegErpArfpo7",
    "outputId": "549ed9a0-ab5c-443d-e77d-a07bb05da741"
   },
   "outputs": [
    {
     "name": "stdout",
     "output_type": "stream",
     "text": [
      "NameAge\n",
      "Alice25\n",
      "Bob30\n",
      "Frank28\n",
      "Rachel24\n"
     ]
    }
   ],
   "source": [
    "Y = X.find_all(\"tr\")\n",
    "for i in Y:\n",
    "  print(i.text)\n"
   ]
  },
  {
   "cell_type": "code",
   "execution_count": 6,
   "metadata": {
    "colab": {
     "base_uri": "https://localhost:8080/"
    },
    "id": "kaAzkhzdgFYE",
    "outputId": "06375e06-d95d-4bdd-83f6-39159e2b5263"
   },
   "outputs": [
    {
     "name": "stdout",
     "output_type": "stream",
     "text": [
      "[<th>Name</th>, <th>Age</th>]\n",
      "['Name', 'Age']\n"
     ]
    }
   ],
   "source": [
    "for i in Y:\n",
    "  a =i.find_all(\"th\")\n",
    "  print(a)\n",
    "  b= []\n",
    "  for j in a:\n",
    "    b.append(j.text)\n",
    "\n",
    "  #b = [j.text for j in a]\n",
    "\n",
    "  break\n",
    "\n",
    "print(b)\n",
    "# [<th>Name</th>, <th>Age</th>]\n",
    "# ['Name', 'Age']"
   ]
  },
  {
   "cell_type": "code",
   "execution_count": 7,
   "metadata": {
    "colab": {
     "base_uri": "https://localhost:8080/"
    },
    "id": "5AKYjXU4k3Ni",
    "outputId": "68f87937-a9c8-486c-c8ee-533599d76cc9"
   },
   "outputs": [
    {
     "name": "stdout",
     "output_type": "stream",
     "text": [
      "[['Alice', '25'], ['Bob', '30'], ['Frank', '28'], ['Rachel', '24']]\n"
     ]
    }
   ],
   "source": [
    "D=[]\n",
    "for k in Y[1:]:\n",
    "  c =k.find_all(\"td\")\n",
    "  #print(c)\n",
    "  d= []\n",
    "  for m in c:\n",
    "    d.append(m.text)\n",
    "  D.append(d)\n",
    "\n",
    "  #b = [j.text for j in a]\n",
    "\n",
    "print(D)"
   ]
  },
  {
   "cell_type": "code",
   "execution_count": 8,
   "metadata": {
    "colab": {
     "base_uri": "https://localhost:8080/"
    },
    "id": "kjWZKJBco92n",
    "outputId": "7a2e6cd8-4689-449a-9ef5-3ab16f91e129"
   },
   "outputs": [
    {
     "name": "stdout",
     "output_type": "stream",
     "text": [
      "Name ['Alice', 'Bob', 'Frank', 'Rachel']\n",
      "Age ['25', '30', '28', '24']\n"
     ]
    }
   ],
   "source": [
    "Dic ={}\n",
    "z = 0\n",
    "for n in b:\n",
    "  Dic[n]=[x[z] for x in D]\n",
    "  z+=1\n",
    "\n",
    "Dic\n",
    "for i,j in Dic.items():\n",
    "  print(i,j)\n"
   ]
  },
  {
   "cell_type": "code",
   "execution_count": 9,
   "metadata": {
    "id": "m07cjiNVV69o"
   },
   "outputs": [],
   "source": [
    "# 1. Finding table\n",
    "# 2. Headers\n",
    "# 3. rows\n",
    "# 4. Dictionary\n",
    "# 5. DataFrame\n",
    "# 6. Plots(matplotlib)\n"
   ]
  },
  {
   "cell_type": "code",
   "execution_count": null,
   "metadata": {
    "id": "nujQE9umqLmj"
   },
   "outputs": [],
   "source": []
  },
  {
   "cell_type": "code",
   "execution_count": 10,
   "metadata": {
    "colab": {
     "base_uri": "https://localhost:8080/",
     "height": 175
    },
    "id": "aTRNd8xGn7Oh",
    "outputId": "270b4488-4d6c-49e4-9524-52eba112399e"
   },
   "outputs": [
    {
     "data": {
      "text/html": [
       "<div>\n",
       "<style scoped>\n",
       "    .dataframe tbody tr th:only-of-type {\n",
       "        vertical-align: middle;\n",
       "    }\n",
       "\n",
       "    .dataframe tbody tr th {\n",
       "        vertical-align: top;\n",
       "    }\n",
       "\n",
       "    .dataframe thead th {\n",
       "        text-align: right;\n",
       "    }\n",
       "</style>\n",
       "<table border=\"1\" class=\"dataframe\">\n",
       "  <thead>\n",
       "    <tr style=\"text-align: right;\">\n",
       "      <th></th>\n",
       "      <th>Name</th>\n",
       "      <th>Age</th>\n",
       "    </tr>\n",
       "  </thead>\n",
       "  <tbody>\n",
       "    <tr>\n",
       "      <th>0</th>\n",
       "      <td>Alice</td>\n",
       "      <td>25</td>\n",
       "    </tr>\n",
       "    <tr>\n",
       "      <th>1</th>\n",
       "      <td>Bob</td>\n",
       "      <td>30</td>\n",
       "    </tr>\n",
       "    <tr>\n",
       "      <th>2</th>\n",
       "      <td>Frank</td>\n",
       "      <td>28</td>\n",
       "    </tr>\n",
       "    <tr>\n",
       "      <th>3</th>\n",
       "      <td>Rachel</td>\n",
       "      <td>24</td>\n",
       "    </tr>\n",
       "  </tbody>\n",
       "</table>\n",
       "</div>"
      ],
      "text/plain": [
       "     Name Age\n",
       "0   Alice  25\n",
       "1     Bob  30\n",
       "2   Frank  28\n",
       "3  Rachel  24"
      ]
     },
     "execution_count": 10,
     "metadata": {},
     "output_type": "execute_result"
    }
   ],
   "source": [
    "import pandas as pd\n",
    "df = pd.DataFrame(Dic)\n",
    "df"
   ]
  },
  {
   "cell_type": "code",
   "execution_count": 11,
   "metadata": {
    "id": "FXAuRrg7qWOv"
   },
   "outputs": [],
   "source": [
    "df.to_csv('agedata.csv')"
   ]
  },
  {
   "cell_type": "code",
   "execution_count": 12,
   "metadata": {
    "colab": {
     "base_uri": "https://localhost:8080/"
    },
    "id": "Uqks49G1XRTW",
    "outputId": "66a44ff2-027d-4fa3-bd29-85f75918905f"
   },
   "outputs": [
    {
     "name": "stdout",
     "output_type": "stream",
     "text": [
      "Page Title: \n",
      "Main Heading\n",
      "This is a paragraph.\n",
      "Another paragraph with a link.\n",
      "\n",
      "\n",
      "Item 1\n",
      "Item 2\n",
      "Item 3\n",
      "\n",
      "\n",
      "\n",
      "NameAge\n",
      "Alice25\n",
      "Bob30\n",
      "Frank28\n",
      "Rachel24\n",
      "\n",
      "\n"
     ]
    }
   ],
   "source": [
    "#Finding things via tags\n",
    "\n",
    "# 1. **Basic Parsing**\n",
    "print(\"Page Title:\", soup.body.text)  # Extract title\n",
    "#Limitation: Finds first occurence only"
   ]
  },
  {
   "cell_type": "code",
   "execution_count": 13,
   "metadata": {
    "colab": {
     "base_uri": "https://localhost:8080/"
    },
    "id": "TrFHHrjYFu10",
    "outputId": "8de577a9-6445-4948-c5b1-76a6ad9c4fa7"
   },
   "outputs": [
    {
     "name": "stdout",
     "output_type": "stream",
     "text": [
      "<html><body><span>This is first</span><p>This is second</p></body></html>\n",
      "\n",
      "Prettified HTML:\n",
      "<html>\n",
      " <body>\n",
      "  <span>\n",
      "   This is first\n",
      "  </span>\n",
      "  <p>\n",
      "   This is second\n",
      "  </p>\n",
      " </body>\n",
      "</html>\n",
      "\n"
     ]
    }
   ],
   "source": [
    "# 10. **Prettifying HTML Output**\n",
    "x = BeautifulSoup(\"<html><body><span>This is first</span><p>This is second</p></body></html>\",\"html.parser\")\n",
    "print(x)\n",
    "print(\"\\nPrettified HTML:\")\n",
    "print(x.prettify())"
   ]
  },
  {
   "cell_type": "code",
   "execution_count": 14,
   "metadata": {
    "colab": {
     "base_uri": "https://localhost:8080/"
    },
    "id": "d90SVPtmXSWk",
    "outputId": "c5c60176-81ff-4dac-cd21-59dfa453a82b"
   },
   "outputs": [
    {
     "name": "stdout",
     "output_type": "stream",
     "text": [
      "\n",
      "Find first paragraph: This is a paragraph.\n",
      "<class 'str'>\n",
      "Find all paragraphs: [<p class=\"xyz\">This is a paragraph.</p>, <p class=\"content\">Another paragraph with <a href=\"https://example.com\">a link</a>.</p>]\n",
      "['This is a paragraph.', 'Another paragraph with a link.']\n"
     ]
    }
   ],
   "source": [
    "# 2. **Finding Elements**\n",
    "print(\"\\nFind first paragraph:\",(soup.find(\"p\").text) ) # First <p> tag\n",
    "print(type(soup.find(\"p\").text))\n",
    "print(\"Find all paragraphs:\", soup.find_all(\"p\"))  # All <p> tags\n",
    "x = []\n",
    "for i in soup.find_all(\"p\"):\n",
    "  x.append(i.text)\n",
    "print(x)"
   ]
  },
  {
   "cell_type": "markdown",
   "metadata": {
    "id": "2AofijstOGx0"
   },
   "source": []
  },
  {
   "cell_type": "code",
   "execution_count": 15,
   "metadata": {
    "colab": {
     "base_uri": "https://localhost:8080/"
    },
    "id": "VY65Swe5XS8S",
    "outputId": "68e040c1-4093-4694-eec5-35bfeace0fba"
   },
   "outputs": [
    {
     "name": "stdout",
     "output_type": "stream",
     "text": [
      "\n",
      "Using CSS Selectors:\n",
      "This is a paragraph.\n",
      "This is a paragraph.\n",
      "Item 2\n"
     ]
    }
   ],
   "source": [
    "# 3. **Using CSS Selectors**\n",
    "print(\"\\nUsing CSS Selectors:\")\n",
    "print(soup.select(\"p\")[0].text)  # Select by tag name\n",
    "print(soup.select(\".xyz\")[0].text)  # Select by class\n",
    "print(soup.select(\"#container ul li\")[1].text)   # Selects the element with id=\"container\" # Select second list item in <ul>"
   ]
  },
  {
   "cell_type": "code",
   "execution_count": 16,
   "metadata": {
    "colab": {
     "base_uri": "https://localhost:8080/"
    },
    "id": "8U85mdtsXi_a",
    "outputId": "389ea623-e168-46c9-a6ef-43775426b872"
   },
   "outputs": [
    {
     "name": "stdout",
     "output_type": "stream",
     "text": [
      "\n",
      "Navigating the DOM:\n",
      "Main Heading\n",
      "Item 1\n"
     ]
    }
   ],
   "source": [
    "# 4. **Navigating the DOM**\n",
    "print(\"\\nNavigating the DOM:\")\n",
    "print(soup.body.h1.text)  # First <h1> tag inside <body>\n",
    "print(soup.body.div.ul.li.text)  # First <li> inside <div> -> <ul>"
   ]
  },
  {
   "cell_type": "code",
   "execution_count": 17,
   "metadata": {
    "colab": {
     "base_uri": "https://localhost:8080/"
    },
    "id": "NvuUgD_rXjuM",
    "outputId": "ba762c03-feb4-493f-b987-5c704d47eab2"
   },
   "outputs": [
    {
     "name": "stdout",
     "output_type": "stream",
     "text": [
      "a link\n",
      "\n",
      "Extracting Attributes:\n",
      "Link URL: https://example.com\n"
     ]
    }
   ],
   "source": [
    "# 5. **Extracting Attributes**\n",
    "link = soup.find(\"a\")\n",
    "print(link.text)\n",
    "print(\"\\nExtracting Attributes:\")\n",
    "print(\"Link URL:\", link[\"href\"])  # Extract href attribute of <a>"
   ]
  },
  {
   "cell_type": "code",
   "execution_count": 18,
   "metadata": {
    "colab": {
     "base_uri": "https://localhost:8080/"
    },
    "id": "lwI3L38tXjYJ",
    "outputId": "0dcee9c3-d115-4770-d07d-3599126d3663"
   },
   "outputs": [
    {
     "name": "stdout",
     "output_type": "stream",
     "text": [
      "\n",
      "Modifying HTML:\n",
      "Updated Heading\n"
     ]
    }
   ],
   "source": [
    "\n",
    "# 6. **Modifying HTML**\n",
    "print(\"\\nModifying HTML:\")\n",
    "soup.find(\"h1\").string = \"Updated Heading\"\n",
    "print(soup.h1.text)"
   ]
  },
  {
   "cell_type": "code",
   "execution_count": 19,
   "metadata": {
    "colab": {
     "base_uri": "https://localhost:8080/"
    },
    "id": "G0fUVumfXwKl",
    "outputId": "506d16bf-a843-4cfe-f5fc-ab751d6507be"
   },
   "outputs": [
    {
     "name": "stdout",
     "output_type": "stream",
     "text": [
      "\n",
      "Extracting All Text from Page:\n",
      "\n",
      "|\n",
      "|World's Population|\n",
      "|\n",
      "|Updated Heading|\n",
      "|This is a paragraph.|\n",
      "|Another paragraph with |a link|.|\n",
      "|\n",
      "|\n",
      "|Item 1|\n",
      "|Item 2|\n",
      "|Item 3|\n",
      "|\n",
      "|\n",
      "|\n",
      "|Name|Age|\n",
      "|Alice|25|\n",
      "|Bob|30|\n",
      "|Frank|28|\n",
      "|Rachel|24|\n",
      "|\n",
      "|\n",
      "|\n",
      "\n"
     ]
    }
   ],
   "source": [
    "# 7. **Extracting Text**\n",
    "print(\"\\nExtracting All Text from Page:\")\n",
    "print(soup.get_text(separator='|'))"
   ]
  },
  {
   "cell_type": "code",
   "execution_count": 20,
   "metadata": {
    "colab": {
     "base_uri": "https://localhost:8080/"
    },
    "id": "PASxBNavKQB4",
    "outputId": "f5c70f4d-58a1-4d9e-8a53-9795e31ee5f3"
   },
   "outputs": [
    {
     "name": "stdout",
     "output_type": "stream",
     "text": [
      "\n",
      "After Removing h1: \n",
      "<html>\n",
      "<head><title>World's Population</title></head>\n",
      "<body>\n",
      "\n",
      "<p class=\"xyz\">This is a paragraph.</p>\n",
      "<p class=\"content\">Another paragraph with <a href=\"https://example.com\">a link</a>.</p>\n",
      "<div id=\"container\">\n",
      "<ul>\n",
      "<li class=\"item\">Item 1</li>\n",
      "<li class=\"item\">Item 2</li>\n",
      "<li class=\"item\">Item 3</li>\n",
      "</ul>\n",
      "</div>\n",
      "<table>\n",
      "<tr><th>Name</th><th>Age</th></tr>\n",
      "<tr><td>Alice</td><td>25</td></tr>\n",
      "<tr><td>Bob</td><td>30</td></tr>\n",
      "<tr><td>Frank</td><td>28</td></tr>\n",
      "<tr><td>Rachel</td><td>24</td></tr>\n",
      "</table>\n",
      "</body>\n",
      "</html>\n",
      "\n"
     ]
    }
   ],
   "source": [
    "# 9. **Decomposing (Removing) Elements**\n",
    "soup.find(\"h1\").decompose()  # Remove <h1> tag\n",
    "print(\"\\nAfter Removing h1:\", soup)"
   ]
  },
  {
   "cell_type": "code",
   "execution_count": 21,
   "metadata": {
    "colab": {
     "base_uri": "https://localhost:8080/"
    },
    "id": "YrdhsmKkXwjS",
    "outputId": "7f221954-9d2b-468f-fa3f-a3c14d040976"
   },
   "outputs": [
    {
     "name": "stdout",
     "output_type": "stream",
     "text": [
      "[<tr><th>Name</th><th>Age</th></tr>, <tr><td>Alice</td><td>25</td></tr>, <tr><td>Bob</td><td>30</td></tr>, <tr><td>Frank</td><td>28</td></tr>, <tr><td>Rachel</td><td>24</td></tr>]\n",
      "\n",
      "Table Data:\n",
      "Name: Alice, Age: 25\n",
      "Name: Bob, Age: 30\n",
      "Name: Frank, Age: 28\n",
      "Name: Rachel, Age: 24\n"
     ]
    }
   ],
   "source": [
    "# 8. **Working with Tables**\n",
    "table1 = soup.find(\"table\")\n",
    "rows = table1.find_all(\"tr\")\n",
    "print(rows)\n",
    "print(\"\\nTable Data:\")\n",
    "for row in rows:\n",
    "   cols = row.find_all(\"td\")\n",
    "   if cols:\n",
    "        print(f\"Name: {cols[0].text}, Age: {cols[1].text}\")"
   ]
  },
  {
   "cell_type": "code",
   "execution_count": null,
   "metadata": {
    "id": "bMbgc0BCX0kB"
   },
   "outputs": [],
   "source": []
  },
  {
   "cell_type": "code",
   "execution_count": 22,
   "metadata": {
    "colab": {
     "base_uri": "https://localhost:8080/"
    },
    "id": "3Vcr8rFwrwi8",
    "outputId": "08f80535-cb9b-4fa7-b00f-356bc49fe806"
   },
   "outputs": [
    {
     "name": "stdout",
     "output_type": "stream",
     "text": [
      "   Name    Age\n",
      "1  Alice   25 \n",
      "2  Bob     30 \n",
      "3  Frank   28 \n",
      "4  Rachel  24 \n"
     ]
    }
   ],
   "source": [
    "# Print header\n",
    "header_cols = rows[0].find_all(\"th\")\n",
    "print(f\"{'':<3}{header_cols[0].text:<8}{header_cols[1].text:<3}\")\n",
    "\n",
    "# Print table rows with numbering\n",
    "for index, row in enumerate(rows[1:], start=1):\n",
    "    cols = row.find_all(\"td\")\n",
    "    if cols:\n",
    "        print(f\"{index:<3}{cols[0].text:<8}{cols[1].text:<3}\")"
   ]
  },
  {
   "cell_type": "code",
   "execution_count": 23,
   "metadata": {
    "colab": {
     "base_uri": "https://localhost:8080/"
    },
    "id": "UV_gatc5slq4",
    "outputId": "4e4f86d3-f293-466f-ef16-fdc111024d7f"
   },
   "outputs": [
    {
     "data": {
      "text/plain": [
       "['Name', 'Age']"
      ]
     },
     "execution_count": 23,
     "metadata": {},
     "output_type": "execute_result"
    }
   ],
   "source": [
    "x=[i.text for i in header_cols]\n",
    "x"
   ]
  },
  {
   "cell_type": "code",
   "execution_count": 24,
   "metadata": {
    "colab": {
     "base_uri": "https://localhost:8080/"
    },
    "id": "cU_CXqgLs6C6",
    "outputId": "b9e6142c-acbb-4052-9e89-baad090ed646"
   },
   "outputs": [
    {
     "data": {
      "text/plain": [
       "[<tr><td>Alice</td><td>25</td></tr>,\n",
       " <tr><td>Bob</td><td>30</td></tr>,\n",
       " <tr><td>Frank</td><td>28</td></tr>,\n",
       " <tr><td>Rachel</td><td>24</td></tr>]"
      ]
     },
     "execution_count": 24,
     "metadata": {},
     "output_type": "execute_result"
    }
   ],
   "source": [
    "rows[1:]"
   ]
  },
  {
   "cell_type": "code",
   "execution_count": 25,
   "metadata": {
    "colab": {
     "base_uri": "https://localhost:8080/"
    },
    "id": "FJmJ_ss6vHeK",
    "outputId": "d37ef67a-9d0a-4c39-e6e6-b366ba60b05e"
   },
   "outputs": [
    {
     "data": {
      "text/plain": [
       "[['Alice', '25'], ['Bob', '30'], ['Frank', '28'], ['Rachel', '24']]"
      ]
     },
     "execution_count": 25,
     "metadata": {},
     "output_type": "execute_result"
    }
   ],
   "source": [
    "data=[]\n",
    "for i in rows[1:]:\n",
    "  z=[j.text for j in i.find_all(\"td\")]\n",
    "  data.append(z)\n",
    "data"
   ]
  },
  {
   "cell_type": "code",
   "execution_count": 26,
   "metadata": {
    "colab": {
     "base_uri": "https://localhost:8080/"
    },
    "id": "zRaXZHQCv04M",
    "outputId": "f482a210-6a08-4ba5-cb95-a9c0e8419f88"
   },
   "outputs": [
    {
     "data": {
      "text/plain": [
       "{'Name': ['Alice', 'Bob', 'Frank', 'Rachel'], 'Age': ['25', '30', '28', '24']}"
      ]
     },
     "execution_count": 26,
     "metadata": {},
     "output_type": "execute_result"
    }
   ],
   "source": [
    "D={}\n",
    "n=0\n",
    "for k in x:\n",
    "  D[k] = [m[n] for m in data]\n",
    "  n+=1\n",
    "\n",
    "D"
   ]
  },
  {
   "cell_type": "code",
   "execution_count": 27,
   "metadata": {
    "colab": {
     "base_uri": "https://localhost:8080/",
     "height": 175
    },
    "id": "5CB1Gfinwvyw",
    "outputId": "959518c1-2c0c-4ee2-857e-2faf8a8d4039"
   },
   "outputs": [
    {
     "data": {
      "text/html": [
       "<div>\n",
       "<style scoped>\n",
       "    .dataframe tbody tr th:only-of-type {\n",
       "        vertical-align: middle;\n",
       "    }\n",
       "\n",
       "    .dataframe tbody tr th {\n",
       "        vertical-align: top;\n",
       "    }\n",
       "\n",
       "    .dataframe thead th {\n",
       "        text-align: right;\n",
       "    }\n",
       "</style>\n",
       "<table border=\"1\" class=\"dataframe\">\n",
       "  <thead>\n",
       "    <tr style=\"text-align: right;\">\n",
       "      <th></th>\n",
       "      <th>Name</th>\n",
       "      <th>Age</th>\n",
       "    </tr>\n",
       "  </thead>\n",
       "  <tbody>\n",
       "    <tr>\n",
       "      <th>0</th>\n",
       "      <td>Alice</td>\n",
       "      <td>25</td>\n",
       "    </tr>\n",
       "    <tr>\n",
       "      <th>1</th>\n",
       "      <td>Bob</td>\n",
       "      <td>30</td>\n",
       "    </tr>\n",
       "    <tr>\n",
       "      <th>2</th>\n",
       "      <td>Frank</td>\n",
       "      <td>28</td>\n",
       "    </tr>\n",
       "    <tr>\n",
       "      <th>3</th>\n",
       "      <td>Rachel</td>\n",
       "      <td>24</td>\n",
       "    </tr>\n",
       "  </tbody>\n",
       "</table>\n",
       "</div>"
      ],
      "text/plain": [
       "     Name Age\n",
       "0   Alice  25\n",
       "1     Bob  30\n",
       "2   Frank  28\n",
       "3  Rachel  24"
      ]
     },
     "execution_count": 27,
     "metadata": {},
     "output_type": "execute_result"
    }
   ],
   "source": [
    "import pandas as pd\n",
    "df = pd.DataFrame(D)\n",
    "df\n"
   ]
  },
  {
   "cell_type": "code",
   "execution_count": 28,
   "metadata": {
    "colab": {
     "base_uri": "https://localhost:8080/",
     "height": 175
    },
    "id": "xhlLK5rbxrQn",
    "outputId": "11a33963-01c7-4f09-d490-a30be5eadb08"
   },
   "outputs": [
    {
     "data": {
      "text/html": [
       "<div>\n",
       "<style scoped>\n",
       "    .dataframe tbody tr th:only-of-type {\n",
       "        vertical-align: middle;\n",
       "    }\n",
       "\n",
       "    .dataframe tbody tr th {\n",
       "        vertical-align: top;\n",
       "    }\n",
       "\n",
       "    .dataframe thead th {\n",
       "        text-align: right;\n",
       "    }\n",
       "</style>\n",
       "<table border=\"1\" class=\"dataframe\">\n",
       "  <thead>\n",
       "    <tr style=\"text-align: right;\">\n",
       "      <th></th>\n",
       "      <th>Name</th>\n",
       "      <th>Age</th>\n",
       "    </tr>\n",
       "  </thead>\n",
       "  <tbody>\n",
       "    <tr>\n",
       "      <th>1</th>\n",
       "      <td>Alice</td>\n",
       "      <td>25</td>\n",
       "    </tr>\n",
       "    <tr>\n",
       "      <th>2</th>\n",
       "      <td>Bob</td>\n",
       "      <td>30</td>\n",
       "    </tr>\n",
       "    <tr>\n",
       "      <th>3</th>\n",
       "      <td>Frank</td>\n",
       "      <td>28</td>\n",
       "    </tr>\n",
       "    <tr>\n",
       "      <th>4</th>\n",
       "      <td>Rachel</td>\n",
       "      <td>24</td>\n",
       "    </tr>\n",
       "  </tbody>\n",
       "</table>\n",
       "</div>"
      ],
      "text/plain": [
       "     Name Age\n",
       "1   Alice  25\n",
       "2     Bob  30\n",
       "3   Frank  28\n",
       "4  Rachel  24"
      ]
     },
     "execution_count": 28,
     "metadata": {},
     "output_type": "execute_result"
    }
   ],
   "source": [
    "df.index = range(1, len(df) + 1)\n",
    "df"
   ]
  },
  {
   "cell_type": "code",
   "execution_count": 29,
   "metadata": {
    "id": "grifQAM7w-K8"
   },
   "outputs": [],
   "source": [
    "df.to_csv('agedata.csv')"
   ]
  },
  {
   "cell_type": "code",
   "execution_count": 30,
   "metadata": {
    "colab": {
     "base_uri": "https://localhost:8080/"
    },
    "id": "hWsjJuVK3GAh",
    "outputId": "5b2b7a67-bf31-47da-96f4-b63bd8fe480a"
   },
   "outputs": [
    {
     "name": "stdout",
     "output_type": "stream",
     "text": [
      "{\"Name\":{\"1\":\"Alice\",\"2\":\"Bob\",\"3\":\"Frank\",\"4\":\"Rachel\"},\"Age\":{\"1\":\"25\",\"2\":\"30\",\"3\":\"28\",\"4\":\"24\"}}\n"
     ]
    }
   ],
   "source": [
    "# Convert to JSON\n",
    "json_data = df.to_json()\n",
    "print(json_data)"
   ]
  },
  {
   "cell_type": "code",
   "execution_count": 31,
   "metadata": {
    "id": "rRa3N-D83aD6"
   },
   "outputs": [],
   "source": [
    "df.to_json(\"agedata.json\")\n"
   ]
  },
  {
   "cell_type": "code",
   "execution_count": 32,
   "metadata": {
    "id": "FsU7dSBMdJZ8"
   },
   "outputs": [],
   "source": [
    "x='<html><th>Location</th><th>Population</th></html>'"
   ]
  },
  {
   "cell_type": "code",
   "execution_count": 33,
   "metadata": {
    "colab": {
     "base_uri": "https://localhost:8080/",
     "height": 35
    },
    "id": "eiSLsM_ydzF3",
    "outputId": "8735e674-d6bf-4267-9063-4c218fbe1596"
   },
   "outputs": [
    {
     "data": {
      "text/plain": [
       "'<html><th>Location</th><th>Population</th></html>'"
      ]
     },
     "execution_count": 33,
     "metadata": {},
     "output_type": "execute_result"
    }
   ],
   "source": [
    "x"
   ]
  },
  {
   "cell_type": "code",
   "execution_count": 34,
   "metadata": {
    "colab": {
     "base_uri": "https://localhost:8080/"
    },
    "id": "Un-YPOBXlJCW",
    "outputId": "726f9486-b227-4e34-a427-47d25c040831"
   },
   "outputs": [
    {
     "name": "stdout",
     "output_type": "stream",
     "text": [
      "<class 'str'>\n"
     ]
    }
   ],
   "source": [
    "print(type(x))"
   ]
  },
  {
   "cell_type": "markdown",
   "metadata": {
    "id": "bOKC3RjHlPc9"
   },
   "source": [
    "Importing Beautiful Soup, provided it's already installed"
   ]
  },
  {
   "cell_type": "code",
   "execution_count": 35,
   "metadata": {
    "id": "TfgZZqBgd1CJ"
   },
   "outputs": [],
   "source": [
    "from bs4 import BeautifulSoup"
   ]
  },
  {
   "cell_type": "code",
   "execution_count": 36,
   "metadata": {
    "colab": {
     "base_uri": "https://localhost:8080/"
    },
    "id": "hhRV4B1heAGZ",
    "outputId": "a2d9b2f5-feae-40c6-a9f0-3fb244522595"
   },
   "outputs": [
    {
     "name": "stdout",
     "output_type": "stream",
     "text": [
      "<html><body><th>Location</th><th>Population</th></body></html>\n",
      "<class 'bs4.BeautifulSoup'>\n"
     ]
    }
   ],
   "source": [
    "soup=BeautifulSoup(x)\n",
    "print(soup)\n",
    "print(type(soup))"
   ]
  },
  {
   "cell_type": "markdown",
   "metadata": {
    "id": "aUxRyKTLe5pV"
   },
   "source": [
    "Finding First Occurence, soup.find is helping us find the first occurence"
   ]
  },
  {
   "cell_type": "code",
   "execution_count": 37,
   "metadata": {
    "colab": {
     "base_uri": "https://localhost:8080/"
    },
    "id": "7PPzz4TheV44",
    "outputId": "d575c362-8713-4139-cfda-ed4910ccb743"
   },
   "outputs": [
    {
     "name": "stdout",
     "output_type": "stream",
     "text": [
      "<th>Location</th>\n",
      "<class 'bs4.element.Tag'>\n",
      "Location\n",
      "<class 'str'>\n"
     ]
    }
   ],
   "source": [
    "firstfind = soup.find('th')\n",
    "print(firstfind)\n",
    "print(type(firstfind))\n",
    "print(firstfind.text)\n",
    "print(type(firstfind.text))"
   ]
  },
  {
   "cell_type": "markdown",
   "metadata": {
    "id": "0uxBcB0mfBeE"
   },
   "source": [
    "Finding All occurences, soup.find_all is helping us find all occurences"
   ]
  },
  {
   "cell_type": "code",
   "execution_count": 38,
   "metadata": {
    "colab": {
     "base_uri": "https://localhost:8080/"
    },
    "id": "EjFGDFu0fBHB",
    "outputId": "5dc3f761-5dc9-4cbc-c6bb-52b275517123"
   },
   "outputs": [
    {
     "name": "stdout",
     "output_type": "stream",
     "text": [
      "[<th>Location</th>, <th>Population</th>]\n",
      "<class 'bs4.element.ResultSet'>\n",
      "LocationPopulation\n"
     ]
    }
   ],
   "source": [
    "allfind=soup.find_all('th')\n",
    "print(allfind)\n",
    "print(type(allfind))\n",
    "# print(allfind.text)#Error\n",
    "# print(type(allfind.text))#Error\n",
    "print(soup.get_text())"
   ]
  },
  {
   "cell_type": "code",
   "execution_count": 39,
   "metadata": {
    "colab": {
     "base_uri": "https://localhost:8080/"
    },
    "id": "pDTU1I3Qf-H1",
    "outputId": "659e6788-e88a-49c4-f781-3afd0dc66b9a"
   },
   "outputs": [
    {
     "name": "stdout",
     "output_type": "stream",
     "text": [
      "<th>Location</th>\n",
      "<th>Population</th>\n"
     ]
    }
   ],
   "source": [
    "for i in allfind:\n",
    "  print(i)"
   ]
  },
  {
   "cell_type": "code",
   "execution_count": 40,
   "metadata": {
    "colab": {
     "base_uri": "https://localhost:8080/"
    },
    "id": "9VPKSDtOg12h",
    "outputId": "7bfed586-f371-4d10-d582-e6bbc7c9ddcd"
   },
   "outputs": [
    {
     "name": "stdout",
     "output_type": "stream",
     "text": [
      "Location\n",
      "Population\n"
     ]
    }
   ],
   "source": [
    "for i in allfind:\n",
    "  print(i.text)"
   ]
  },
  {
   "cell_type": "code",
   "execution_count": 41,
   "metadata": {
    "colab": {
     "base_uri": "https://localhost:8080/"
    },
    "id": "Mm67SAHshK-9",
    "outputId": "bf6f9b30-41cc-45b8-b0db-90c5496d19d0"
   },
   "outputs": [
    {
     "data": {
      "text/plain": [
       "['Location', 'Population']"
      ]
     },
     "execution_count": 41,
     "metadata": {},
     "output_type": "execute_result"
    }
   ],
   "source": [
    "headers=[]\n",
    "for i in allfind:\n",
    "  headers.append(i.text)\n",
    "\n",
    "headers"
   ]
  },
  {
   "cell_type": "markdown",
   "metadata": {
    "id": "SaHeFKQ6h1SM"
   },
   "source": [
    "By List Comprehension"
   ]
  },
  {
   "cell_type": "code",
   "execution_count": 42,
   "metadata": {
    "colab": {
     "base_uri": "https://localhost:8080/"
    },
    "id": "8nf0ck5ChsHv",
    "outputId": "55e8aade-4914-4cbd-92fc-467a4d38b4c3"
   },
   "outputs": [
    {
     "data": {
      "text/plain": [
       "['Location', 'Population']"
      ]
     },
     "execution_count": 42,
     "metadata": {},
     "output_type": "execute_result"
    }
   ],
   "source": [
    "headers = [i.text for i in allfind]\n",
    "headers"
   ]
  },
  {
   "cell_type": "code",
   "execution_count": null,
   "metadata": {
    "id": "6VPz__6gioZl"
   },
   "outputs": [],
   "source": []
  },
  {
   "cell_type": "markdown",
   "metadata": {
    "id": "ce9d7d3d"
   },
   "source": [
    "\n",
    "# Beautiful Soup Quiz - Code Tracing\n",
    "\n",
    "This notebook contains 10 questions focused on code tracing for Beautiful Soup. Each question includes code snippets, multiple-choice options, and the correct answer. Run the cells to see the correct answers.\n"
   ]
  },
  {
   "cell_type": "markdown",
   "metadata": {
    "id": "7e60060c"
   },
   "source": [
    "### Question 1\n",
    "```python\n",
    "\n",
    "from bs4 import BeautifulSoup\n",
    "\n",
    "html_doc = \"<html><body><h1>Hello, World!</h1></body></html>\"\n",
    "soup = BeautifulSoup(html_doc, \"html.parser\")\n",
    "print(soup.h1.text)\n",
    "```"
   ]
  },
  {
   "cell_type": "markdown",
   "metadata": {
    "id": "104aca6c"
   },
   "source": [
    "**Options:**\n",
    "A) <h1>Hello, World!</h1>\n",
    "B) Hello, World!\n",
    "C) None\n",
    "D) Error: AttributeError"
   ]
  },
  {
   "cell_type": "code",
   "execution_count": 43,
   "metadata": {
    "colab": {
     "base_uri": "https://localhost:8080/"
    },
    "id": "09ad8bb5",
    "outputId": "c3c46cea-86d7-40ca-e7d3-64f05327c7b7"
   },
   "outputs": [
    {
     "name": "stdout",
     "output_type": "stream",
     "text": [
      "Correct Answer: B) Hello, World!\n"
     ]
    }
   ],
   "source": [
    "# Correct Answer\n",
    "print(\"Correct Answer: B) Hello, World!\")"
   ]
  },
  {
   "cell_type": "markdown",
   "metadata": {
    "id": "b2b53db3"
   },
   "source": [
    "### Question 2\n",
    "```python\n",
    "\n",
    "from bs4 import BeautifulSoup\n",
    "\n",
    "html_doc = \"<html><body><p class='info'>Python</p><p>Beautiful Soup</p></body></html>\"\n",
    "soup = BeautifulSoup(html_doc, \"html.parser\")\n",
    "print(soup.find('p').text)\n",
    "```"
   ]
  },
  {
   "cell_type": "markdown",
   "metadata": {
    "id": "629bc6da"
   },
   "source": [
    "**Options:**\n",
    "A) Python\n",
    "B) Beautiful Soup\n",
    "C) <p class='info'>Python</p>\n",
    "D) None"
   ]
  },
  {
   "cell_type": "code",
   "execution_count": 44,
   "metadata": {
    "colab": {
     "base_uri": "https://localhost:8080/"
    },
    "id": "0fe73949",
    "outputId": "ba2bf0ae-5c9a-40b9-a93c-036d234b05eb"
   },
   "outputs": [
    {
     "name": "stdout",
     "output_type": "stream",
     "text": [
      "Correct Answer: A) Python\n"
     ]
    }
   ],
   "source": [
    "# Correct Answer\n",
    "print(\"Correct Answer: A) Python\")"
   ]
  },
  {
   "cell_type": "markdown",
   "metadata": {
    "id": "55d6a4e1"
   },
   "source": [
    "### Question 3\n",
    "```python\n",
    "\n",
    "from bs4 import BeautifulSoup\n",
    "\n",
    "html_doc = \"\"\"\n",
    "<html>\n",
    "  <body>\n",
    "    <p class='content'>Paragraph 1</p>\n",
    "    <p>Paragraph 2</p>\n",
    "    <p class='content'>Paragraph 3</p>\n",
    "  </body>\n",
    "</html>\n",
    "\"\"\"\n",
    "soup = BeautifulSoup(html_doc, \"html.parser\")\n",
    "result = soup.find_all('p', class_='content')\n",
    "for item in result:\n",
    "    print(item.text)\n",
    "```"
   ]
  },
  {
   "cell_type": "markdown",
   "metadata": {
    "id": "f37b1798"
   },
   "source": [
    "**Options:**\n",
    "A) Paragraph 1\n",
    "B) Paragraph 1 and Paragraph 3\n",
    "C) Paragraph 2\n",
    "D) None"
   ]
  },
  {
   "cell_type": "code",
   "execution_count": 45,
   "metadata": {
    "colab": {
     "base_uri": "https://localhost:8080/"
    },
    "id": "b714eb82",
    "outputId": "32c08362-57a1-4bc4-e432-e52c1b87ac5f"
   },
   "outputs": [
    {
     "name": "stdout",
     "output_type": "stream",
     "text": [
      "Correct Answer: B) Paragraph 1 and Paragraph 3\n"
     ]
    }
   ],
   "source": [
    "# Correct Answer\n",
    "print(\"Correct Answer: B) Paragraph 1 and Paragraph 3\")"
   ]
  },
  {
   "cell_type": "markdown",
   "metadata": {
    "id": "97fe9ee2"
   },
   "source": [
    "### Question 4\n",
    "```python\n",
    "\n",
    "from bs4 import BeautifulSoup\n",
    "\n",
    "html_doc = \"<html><a href='https://example.com'>Visit Example</a></html>\"\n",
    "soup = BeautifulSoup(html_doc, \"html.parser\")\n",
    "print(soup.a['href'])\n",
    "```"
   ]
  },
  {
   "cell_type": "markdown",
   "metadata": {
    "id": "8827e2fc"
   },
   "source": [
    "**Options:**\n",
    "A) https://example.com\n",
    "B) Visit Example\n",
    "C) <a href='https://example.com'>Visit Example</a>\n",
    "D) None"
   ]
  },
  {
   "cell_type": "code",
   "execution_count": 46,
   "metadata": {
    "colab": {
     "base_uri": "https://localhost:8080/"
    },
    "id": "05bdd2df",
    "outputId": "fb23c597-467e-4c1e-837c-ebff3c01a428"
   },
   "outputs": [
    {
     "name": "stdout",
     "output_type": "stream",
     "text": [
      "Correct Answer: A) https://example.com\n"
     ]
    }
   ],
   "source": [
    "# Correct Answer\n",
    "print(\"Correct Answer: A) https://example.com\")"
   ]
  },
  {
   "cell_type": "markdown",
   "metadata": {
    "id": "50b131ba"
   },
   "source": [
    "### Question 5\n",
    "```python\n",
    "\n",
    "from bs4 import BeautifulSoup\n",
    "\n",
    "html_doc = \"\"\"\n",
    "<html>\n",
    "  <body>\n",
    "    <div>\n",
    "      <h1>Title</h1>\n",
    "      <p>Description</p>\n",
    "    </div>\n",
    "  </body>\n",
    "</html>\n",
    "\"\"\"\n",
    "soup = BeautifulSoup(html_doc, \"html.parser\")\n",
    "print(soup.div.h1.text)\n",
    "```"
   ]
  },
  {
   "cell_type": "markdown",
   "metadata": {
    "id": "721f6bfd"
   },
   "source": [
    "**Options:**\n",
    "A) Title\n",
    "B) Description\n",
    "C) <h1>Title</h1>\n",
    "D) None"
   ]
  },
  {
   "cell_type": "code",
   "execution_count": 47,
   "metadata": {
    "colab": {
     "base_uri": "https://localhost:8080/"
    },
    "id": "f99fd25e",
    "outputId": "1b179836-ec1d-4523-b3dd-b7a1f2a3032d"
   },
   "outputs": [
    {
     "name": "stdout",
     "output_type": "stream",
     "text": [
      "Correct Answer: A) Title\n"
     ]
    }
   ],
   "source": [
    "# Correct Answer\n",
    "print(\"Correct Answer: A) Title\")"
   ]
  },
  {
   "cell_type": "markdown",
   "metadata": {
    "id": "2e29fbc8"
   },
   "source": [
    "### Question 6\n",
    "```python\n",
    "\n",
    "from bs4 import BeautifulSoup\n",
    "\n",
    "html_doc = \"\"\"\n",
    "<html>\n",
    "  <body>\n",
    "    <ul>\n",
    "      <li>Item 1</li>\n",
    "      <li>Item 2</li>\n",
    "      <li>Item 3</li>\n",
    "    </ul>\n",
    "  </body>\n",
    "</html>\n",
    "\"\"\"\n",
    "soup = BeautifulSoup(html_doc, \"html.parser\")\n",
    "items = soup.find_all('li')\n",
    "print(len(items))\n",
    "```"
   ]
  },
  {
   "cell_type": "markdown",
   "metadata": {
    "id": "e3a449e3"
   },
   "source": [
    "**Options:**\n",
    "A) 1\n",
    "B) 2\n",
    "C) 3\n",
    "D) 0"
   ]
  },
  {
   "cell_type": "code",
   "execution_count": 48,
   "metadata": {
    "colab": {
     "base_uri": "https://localhost:8080/"
    },
    "id": "4360782a",
    "outputId": "dd2f7f2c-e874-4812-85ab-6eab779be4ab"
   },
   "outputs": [
    {
     "name": "stdout",
     "output_type": "stream",
     "text": [
      "Correct Answer: C) 3\n"
     ]
    }
   ],
   "source": [
    "# Correct Answer\n",
    "print(\"Correct Answer: C) 3\")"
   ]
  },
  {
   "cell_type": "markdown",
   "metadata": {
    "id": "335fefa6"
   },
   "source": [
    "### Question 7\n",
    "```python\n",
    "\n",
    "from bs4 import BeautifulSoup\n",
    "\n",
    "html_doc = \"\"\"\n",
    "<html>\n",
    "  <body>\n",
    "    <div id=\"main\">\n",
    "      <p class=\"text\">First</p>\n",
    "      <p class=\"text\">Second</p>\n",
    "    </div>\n",
    "  </body>\n",
    "</html>\n",
    "\"\"\"\n",
    "soup = BeautifulSoup(html_doc, \"html.parser\")\n",
    "result = soup.select('#main .text')\n",
    "for item in result:\n",
    "    print(item.text)\n",
    "```"
   ]
  },
  {
   "cell_type": "markdown",
   "metadata": {
    "id": "e961a211"
   },
   "source": [
    "**Options:**\n",
    "A) First\n",
    "B) First and Second\n",
    "C) Second\n",
    "D) None"
   ]
  },
  {
   "cell_type": "code",
   "execution_count": 49,
   "metadata": {
    "colab": {
     "base_uri": "https://localhost:8080/"
    },
    "id": "73bd8c6c",
    "outputId": "4580d82a-6926-45e0-ecc8-2906d066888e"
   },
   "outputs": [
    {
     "name": "stdout",
     "output_type": "stream",
     "text": [
      "Correct Answer: B) First and Second\n"
     ]
    }
   ],
   "source": [
    "# Correct Answer\n",
    "print(\"Correct Answer: B) First and Second\")"
   ]
  },
  {
   "cell_type": "markdown",
   "metadata": {
    "id": "b5c0d418"
   },
   "source": [
    "### Question 8\n",
    "```python\n",
    "\n",
    "from bs4 import BeautifulSoup\n",
    "\n",
    "html_doc = \"<html><body><h1>Hello</h1><p>World</p></body></html>\"\n",
    "soup = BeautifulSoup(html_doc, \"html.parser\")\n",
    "print(soup.get_text())\n",
    "```"
   ]
  },
  {
   "cell_type": "markdown",
   "metadata": {
    "id": "1164ef7c"
   },
   "source": [
    "**Options:**\n",
    "A) Hello World\n",
    "B) Hello\\nWorld\n",
    "C) <h1>Hello</h1><p>World</p>\n",
    "D) None"
   ]
  },
  {
   "cell_type": "code",
   "execution_count": 50,
   "metadata": {
    "colab": {
     "base_uri": "https://localhost:8080/"
    },
    "id": "26a2dffc",
    "outputId": "daadc481-ada5-463a-ef6e-3a5217b1438e"
   },
   "outputs": [
    {
     "name": "stdout",
     "output_type": "stream",
     "text": [
      "Correct Answer: B) Hello\n",
      "World\n"
     ]
    }
   ],
   "source": [
    "# Correct Answer\n",
    "print(\"Correct Answer: B) Hello\\nWorld\")"
   ]
  },
  {
   "cell_type": "markdown",
   "metadata": {
    "id": "cda67571"
   },
   "source": [
    "### Question 9\n",
    "```python\n",
    "\n",
    "from bs4 import BeautifulSoup\n",
    "\n",
    "html_doc = \"\"\"\n",
    "<html>\n",
    "  <body>\n",
    "    <img src=\"image1.png\" alt=\"First Image\">\n",
    "    <img src=\"image2.png\" alt=\"Second Image\">\n",
    "  </body>\n",
    "</html>\n",
    "\"\"\"\n",
    "soup = BeautifulSoup(html_doc, \"html.parser\")\n",
    "image = soup.find('img', alt='Second Image')\n",
    "print(image['src'])\n",
    "```"
   ]
  },
  {
   "cell_type": "markdown",
   "metadata": {
    "id": "94a11a3f"
   },
   "source": [
    "**Options:**\n",
    "A) image1.png\n",
    "B) image2.png\n",
    "C) <img src='image2.png' alt='Second Image'>\n",
    "D) None"
   ]
  },
  {
   "cell_type": "code",
   "execution_count": 51,
   "metadata": {
    "colab": {
     "base_uri": "https://localhost:8080/"
    },
    "id": "b83bbd94",
    "outputId": "0d0b5ebe-1799-4801-baf7-01ddbb836df0"
   },
   "outputs": [
    {
     "name": "stdout",
     "output_type": "stream",
     "text": [
      "Correct Answer: B) image2.png\n"
     ]
    }
   ],
   "source": [
    "# Correct Answer\n",
    "print(\"Correct Answer: B) image2.png\")"
   ]
  },
  {
   "cell_type": "markdown",
   "metadata": {
    "id": "d47ea62c"
   },
   "source": [
    "### Question 10\n",
    "```python\n",
    "\n",
    "from bs4 import BeautifulSoup\n",
    "\n",
    "html_doc = \"\"\"\n",
    "<html>\n",
    "  <body>\n",
    "    <p class=\"info detail\">Content 1</p>\n",
    "    <p class=\"info\">Content 2</p>\n",
    "  </body>\n",
    "</html>\n",
    "\"\"\"\n",
    "soup = BeautifulSoup(html_doc, \"html.parser\")\n",
    "result = soup.find_all('p', class_='info')\n",
    "for item in result:\n",
    "    print(item.text)\n",
    "```"
   ]
  },
  {
   "cell_type": "markdown",
   "metadata": {
    "id": "80caec56"
   },
   "source": [
    "**Options:**\n",
    "A) Content 1\n",
    "B) Content 2\n",
    "C) Content 1 and Content 2\n",
    "D) None"
   ]
  },
  {
   "cell_type": "code",
   "execution_count": 52,
   "metadata": {
    "colab": {
     "base_uri": "https://localhost:8080/"
    },
    "id": "ad440d0c",
    "outputId": "5de680c3-56a0-4b59-827b-f488861a1e80"
   },
   "outputs": [
    {
     "name": "stdout",
     "output_type": "stream",
     "text": [
      "Correct Answer: C) Content 1 and Content 2\n"
     ]
    }
   ],
   "source": [
    "# Correct Answer\n",
    "print(\"Correct Answer: C) Content 1 and Content 2\")"
   ]
  },
  {
   "cell_type": "markdown",
   "metadata": {
    "id": "zS1ug1trKUc2"
   },
   "source": [
    "**One Small Project**"
   ]
  },
  {
   "cell_type": "markdown",
   "metadata": {
    "id": "eU0JqX2LKhm9"
   },
   "source": [
    "Beautiful Soup is a Python library used for web scraping purposes. It allows you to extract and manipulate data from HTML and XML documents. Here's an example to demonstrate how to use Beautiful Soup to scrape and process a webpage:\n",
    "\n",
    "**Example: Scraping Titles of Blog Posts**"
   ]
  },
  {
   "cell_type": "code",
   "execution_count": 53,
   "metadata": {
    "colab": {
     "base_uri": "https://localhost:8080/"
    },
    "id": "nuQC8OhzM-lh",
    "outputId": "3c0c6f61-d945-43c1-f6b5-ca875024bedf"
   },
   "outputs": [
    {
     "name": "stdout",
     "output_type": "stream",
     "text": [
      "<Response [200]>\n"
     ]
    }
   ],
   "source": [
    "from bs4 import BeautifulSoup\n",
    "import requests\n",
    "\n",
    "# URL of the webpage you want to scrape (using a real blog URL for example)\n",
    "url = 'https://realpython.com/'\n",
    "\n",
    "# Send an HTTP request to the webpage\n",
    "response = requests.get(url)\n",
    "print(response)\n",
    "\n",
    "# Parse the HTML content of the page\n",
    "soup = BeautifulSoup(response.text, 'html.parser')\n",
    "\n",
    "# print(soup.text)\n",
    "\n",
    "# Extract all the blog post titles (example: assuming titles are in <h2> tags with class 'card-title')\n",
    "titles = soup.find_all('h2', class_='card-title')\n",
    "\n",
    "# # Print the extracted titles\n",
    "# print(\"Blog Post Titles:\")\n",
    "# for i, title in enumerate(titles, 1):\n",
    "#     print(f\"{i}. {title.text.strip()}\")\n"
   ]
  },
  {
   "cell_type": "code",
   "execution_count": 54,
   "metadata": {
    "colab": {
     "base_uri": "https://localhost:8080/"
    },
    "id": "xp7ckYWF_-jR",
    "outputId": "cc0255de-8fe5-49f4-9c8f-eda932c6600c"
   },
   "outputs": [
    {
     "name": "stdout",
     "output_type": "stream",
     "text": [
      "                                                Title\n",
      "1                    Python Keywords: An Introduction\n",
      "2   Building a Python Command-Line To-Do App With ...\n",
      "3                       How to Join Strings in Python\n",
      "4                     How to Split a String in Python\n",
      "5             NumPy Techniques and Practical Examples\n",
      "6                  Python for Loops: The Pythonic Way\n",
      "7        Build a Dice-Rolling Application With Python\n",
      "8   Develop Data Visualization Interfaces in Pytho...\n",
      "9                Build a Quiz Application With Python\n",
      "10                            Top Python Game Engines\n",
      "11   Natural Language Processing With spaCy in Python\n",
      "12   A Guide to Modern Python String Formatting Tools\n",
      "13   Build a Tic-Tac-Toe Game With Python and Tkinter\n",
      "14  Python & APIs: A Winning Combo for Reading Pub...\n",
      "15  Providing Multiple Constructors in Your Python...\n",
      "16  Split Your Dataset With scikit-learn's train_t...\n",
      "17  Creating a Scalable Flask Web Application From...\n",
      "18  How to Split a Python List or Iterable Into Ch...\n",
      "19      Python Folium: Create Web Maps From Your Data\n"
     ]
    }
   ],
   "source": [
    "import pandas as pd\n",
    "\n",
    "# Create a DataFrame\n",
    "data = {\"Title\": [title.text.strip() for title in titles]}\n",
    "df = pd.DataFrame(data)\n",
    "df.index = range(1, len(df) + 1)\n",
    "# Display the DataFrame\n",
    "print(df)\n"
   ]
  },
  {
   "cell_type": "markdown",
   "metadata": {
    "id": "UJTx2KEtN6Sj"
   },
   "source": [
    "Step 1: Import Libraries\n",
    "The first step is to import the necessary libraries: BeautifulSoup for parsing the HTML content of the webpage and requests for making HTTP requests. These libraries allow us to retrieve the webpage and extract specific elements from its structure.\n",
    "\n",
    "Step 2: Specify the Target URL\n",
    "You define the URL of the webpage you want to scrape. In this project, the target is a blog site, such as \"https://realpython.com/\". This URL serves as the entry point for fetching the content that you want to analyze.\n",
    "\n",
    "Step 3: Send an HTTP Request\n",
    "An HTTP GET request is sent to the specified URL using the requests library. The server responds with the HTML content of the webpage, which we can then process. This step ensures you have access to the page's raw content.\n",
    "\n",
    "Step 4: Parse the HTML Content\n",
    "The HTML content from the response is passed to BeautifulSoup, which parses it and converts it into a structured format that can be navigated like a tree. This enables you to efficiently locate and extract specific elements (e.g., titles, links, or text) from the webpage.\n",
    "\n",
    "Step 5: Locate Blog Post Titles\n",
    "BeautifulSoup's find_all method is used to search for specific tags (e.g., <h2>) and their associated class attributes (e.g., class='card-title'). This method retrieves all the matching elements, which in this case are the blog post titles. The find_all function returns a list containing these elements.\n",
    "\n",
    "Step 6: Loop Through Titles\n",
    "The list of blog post titles is iterated using a loop. For each title, the text content is extracted using the .text attribute of the tag, and unnecessary whitespace is removed using the .strip() method. The loop prints each title alongside its position in the list.\n",
    "\n",
    "Step 7: Display the Extracted Titles\n",
    "Finally, the extracted blog titles are displayed as a numbered list. Each title is printed in a clean format, making it easy to see the output of the project. This step concludes the task, giving you a clear view of the blog posts retrieved from the webpage.\n",
    "\n",
    "This step-by-step process demonstrates the basic workflow of web scraping: accessing a webpage, parsing its structure, and extracting specific data in a meaningful way."
   ]
  }
 ],
 "metadata": {
  "colab": {
   "provenance": []
  },
  "kernelspec": {
   "display_name": "Python 3 (ipykernel)",
   "language": "python",
   "name": "python3"
  },
  "language_info": {
   "codemirror_mode": {
    "name": "ipython",
    "version": 3
   },
   "file_extension": ".py",
   "mimetype": "text/x-python",
   "name": "python",
   "nbconvert_exporter": "python",
   "pygments_lexer": "ipython3",
   "version": "3.11.7"
  }
 },
 "nbformat": 4,
 "nbformat_minor": 4
}
